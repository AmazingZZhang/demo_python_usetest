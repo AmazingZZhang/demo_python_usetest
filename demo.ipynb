print('welcome to myspace')
print('Hello World!')
